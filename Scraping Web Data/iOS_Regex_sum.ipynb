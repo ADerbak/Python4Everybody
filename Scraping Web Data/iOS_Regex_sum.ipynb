{
 "cells": [
  {
   "cell_type": "code",
   "execution_count": 19,
   "metadata": {},
   "outputs": [
    {
     "name": "stdout",
     "output_type": "stream",
     "text": [
      "587554 108\n"
     ]
    }
   ],
   "source": [
    "import re\n",
    "#text = './regex_sum_42.txt'\n",
    "text = 'regex_sum_1378882.txt'\n",
    "\n",
    "numlist = list()\n",
    "with open(text) as f:\n",
    "    mylist = [line.rstrip('\\n') for line in f]\n",
    "    for i in mylist:\n",
    "        #print(i)\n",
    "        total = re.findall('([0-9]+)',i)\n",
    "        #print('total:',total)\n",
    "        #if len(total) != 1:\n",
    "        #    continue\n",
    "        for number in total:\n",
    "            num = int(number)\n",
    "            numlist.append(num)\n",
    "\n",
    "print(sum(numlist), len(numlist))\n"
   ]
  }
 ],
 "metadata": {
  "kernelspec": {
   "display_name": "Python 3",
   "language": "python",
   "name": "python3"
  },
  "language_info": {
   "codemirror_mode": {
    "name": "ipython",
    "version": 3
   },
   "file_extension": ".py",
   "mimetype": "text/x-python",
   "name": "python",
   "nbconvert_exporter": "python",
   "pygments_lexer": "ipython3",
   "version": "3.8.8"
  }
 },
 "nbformat": 4,
 "nbformat_minor": 2
}
